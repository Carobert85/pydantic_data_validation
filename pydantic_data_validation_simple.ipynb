{
 "cells": [
  {
   "cell_type": "code",
   "execution_count": 1,
   "metadata": {
    "collapsed": true
   },
   "outputs": [],
   "source": [
    "# Standard Library imports\n",
    "from datetime import datetime\n",
    "import enum\n",
    "\n",
    "# 3rd Party package imports\n",
    "import pandas as pd\n",
    "import pydantic\n"
   ]
  },
  {
   "cell_type": "code",
   "execution_count": 2,
   "outputs": [],
   "source": [
    "# Enums for limiting string data in our model\n",
    "\n",
    "class GenderEnum(enum.Enum):\n",
    "    M = 'M'\n",
    "    F = 'F'\n",
    "    NB = 'NB'\n",
    "\n",
    "\n",
    "class ClassEnum(enum.Enum):\n",
    "    Druid = 'Druid'\n",
    "    Fighter = 'Fighter'\n",
    "    Warlock = 'Warlock'\n",
    "    Ranger = 'Ranger'\n",
    "    Bard = 'Bard'\n",
    "    Sorcerer = 'Sorcerer'\n",
    "    Paladin = 'Paladin'\n",
    "    Rogue = 'Rogue'\n",
    "    Wizard = 'Wizard'\n",
    "    Monk = 'Monk'\n",
    "    Barbarian = 'Barbarian'\n",
    "    Cleric = 'Cleric'\n",
    "\n",
    "\n",
    "class RaceEnum(enum.Enum):\n",
    "    Human = 'Human'\n",
    "    Dwarf = 'Dwarf'\n",
    "    Halfling = 'Halfling'\n",
    "    Elf = 'Elf'\n",
    "    Dragonborn = 'Dragonborn'\n",
    "    Tiefling = 'Tiefling'\n",
    "    Half_Orc = 'Half-Orc'\n",
    "    Gnome = 'Gnome'\n",
    "    Half_Elf = 'Half-Elf'\n"
   ],
   "metadata": {
    "collapsed": false
   }
  },
  {
   "cell_type": "code",
   "execution_count": null,
   "outputs": [],
   "source": [
    "class RpgCharacterModel(pydantic.BaseModel):\n",
    "    DATE: datetime\n",
    "    NAME: str = pydantic.Field(...)\n",
    "    GENDER: GenderEnum\n",
    "    RACE: RaceEnum = pydantic.Field(...)\n",
    "    CLASS: ClassEnum = pydantic.Field(...)\n",
    "    HOME: str\n",
    "    GUILD: str\n",
    "    PAY: int = pydantic.Field(..., ge=1, le=500)"
   ],
   "metadata": {
    "collapsed": false
   }
  },
  {
   "cell_type": "code",
   "execution_count": 3,
   "outputs": [],
   "source": [
    "def validate_df_data(df: pd.DataFrame, model: pydantic.BaseModel, index_offset: int = 2) -> tuple[list, list]:\n",
    "    # Python index starts at 0, excel at 1, and 1 row for the header in Excel\n",
    "\n",
    "    #capturing our good data and our bad data\n",
    "    good_data = []\n",
    "    bad_data = []\n",
    "    df_rows = df.to_dict(orient='records')\n",
    "    for index, row in enumerate(df_rows):\n",
    "        try:\n",
    "            model(**row)  #unpacks our dictionary into our keyword arguments\n",
    "            good_data.append(row)  #appends valid data to a new list of dictionaries\n",
    "        except pydantic.ValidationError as e:\n",
    "            # Adds all validation error messages associated with the error\n",
    "            # and adds them to the dictionary\n",
    "            row['Errors'] = [error_message['msg'] for error_message in e.errors()]\n",
    "            # Python index starts at 0, excel at 1, and 1 row for the header in excel\n",
    "            row['Error_row_num'] = index + index_offset\n",
    "            bad_data.append(row)  #appends bad data to a different list of dictionaries\n",
    "\n",
    "    return (good_data, bad_data)"
   ],
   "metadata": {
    "collapsed": false
   }
  },
  {
   "cell_type": "code",
   "execution_count": 7,
   "outputs": [],
   "source": [
    "df = pd.read_excel('sample_dnd_character_data.xlsx')\n",
    "valid_data, invalid_data = validate_df_data(df, RpgCharacterModel, index_offset=2)"
   ],
   "metadata": {
    "collapsed": false
   }
  },
  {
   "cell_type": "code",
   "execution_count": 8,
   "outputs": [
    {
     "data": {
      "text/plain": "[{'DATE_CREATED': Timestamp('2022-09-28 00:00:00'),\n  'NAME': 'Cvenild\\xa0Piroth',\n  'GENDER': 'F',\n  'SUB_SPECIES': 'Human',\n  'CHARACTER_CLASS': nan,\n  'HOME_KIINGDOM': 'Creaxuvalon Kingdom',\n  'GUILD': 'Contract Vikings',\n  'WEEKLY_PAY': nan,\n  'Errors': [\"value is not a valid enumeration member; permitted: 'Druid', 'Fighter', 'Warlock', 'Ranger', 'Bard', 'Sorcerer', 'Paladin', 'Rogue', 'Wizard', 'Monk', 'Barbarian', 'Cleric'\",\n   'value is not a valid integer'],\n  'Error_row_num': 3},\n {'DATE_CREATED': Timestamp('2020-08-30 00:00:00'),\n  'NAME': 'Crystal\\xa0Dale',\n  'GENDER': 'F',\n  'SUB_SPECIES': nan,\n  'CHARACTER_CLASS': 'Bard',\n  'HOME_KIINGDOM': 'Creaxuvalon Kingdom',\n  'GUILD': 'Curse of the Desired',\n  'WEEKLY_PAY': 109.0,\n  'Errors': [\"value is not a valid enumeration member; permitted: 'Human', 'Dwarf', 'Halfling', 'Elf', 'Dragonborn', 'Tiefling', 'Half-Orc', 'Gnome', 'Half-Elf'\"],\n  'Error_row_num': 24},\n {'DATE_CREATED': Timestamp('2019-08-23 00:00:00'),\n  'NAME': 'Largo\\xa0Sire',\n  'GENDER': nan,\n  'SUB_SPECIES': 'Halfling',\n  'CHARACTER_CLASS': 'Barbarian',\n  'HOME_KIINGDOM': 'Iyegary Empire',\n  'GUILD': 'Forgeshade',\n  'WEEKLY_PAY': 154.0,\n  'Errors': [\"value is not a valid enumeration member; permitted: 'M', 'F', 'NB'\"],\n  'Error_row_num': 28},\n {'DATE_CREATED': Timestamp('2018-06-21 00:00:00'),\n  'NAME': 'Porto\\xa0Grub',\n  'GENDER': 'M',\n  'SUB_SPECIES': 'Halfling',\n  'CHARACTER_CLASS': nan,\n  'HOME_KIINGDOM': 'Xecihan Empire',\n  'GUILD': 'Curse of the Desired',\n  'WEEKLY_PAY': 153.0,\n  'Errors': [\"value is not a valid enumeration member; permitted: 'Druid', 'Fighter', 'Warlock', 'Ranger', 'Bard', 'Sorcerer', 'Paladin', 'Rogue', 'Wizard', 'Monk', 'Barbarian', 'Cleric'\"],\n  'Error_row_num': 31},\n {'DATE_CREATED': Timestamp('2019-08-02 00:00:00'),\n  'NAME': 'Filvendor\\xa0Voronbund',\n  'GENDER': nan,\n  'SUB_SPECIES': 'Elf',\n  'CHARACTER_CLASS': 'Wizard',\n  'HOME_KIINGDOM': 'Donyth Kingdom',\n  'GUILD': 'Dawn of the Hallowed',\n  'WEEKLY_PAY': 132.0,\n  'Errors': [\"value is not a valid enumeration member; permitted: 'M', 'F', 'NB'\"],\n  'Error_row_num': 40},\n {'DATE_CREATED': Timestamp('2018-08-25 00:00:00'),\n  'NAME': 'Huntress\\xa0Baykal',\n  'GENDER': 'F',\n  'SUB_SPECIES': 'Tiefling',\n  'CHARACTER_CLASS': nan,\n  'HOME_KIINGDOM': 'Ikhouthage Kingdom',\n  'GUILD': 'Iron Hawks',\n  'WEEKLY_PAY': 57.0,\n  'Errors': [\"value is not a valid enumeration member; permitted: 'Druid', 'Fighter', 'Warlock', 'Ranger', 'Bard', 'Sorcerer', 'Paladin', 'Rogue', 'Wizard', 'Monk', 'Barbarian', 'Cleric'\"],\n  'Error_row_num': 55},\n {'DATE_CREATED': Timestamp('2020-11-01 00:00:00'),\n  'NAME': 'Wogg\\xa0Dummik',\n  'GENDER': 'M',\n  'SUB_SPECIES': 'Half-Orc',\n  'CHARACTER_CLASS': 'Cleric',\n  'HOME_KIINGDOM': 'Donyth Kingdom',\n  'GUILD': 'Flesh Vanguards',\n  'WEEKLY_PAY': nan,\n  'Errors': ['value is not a valid integer'],\n  'Error_row_num': 62},\n {'DATE_CREATED': Timestamp('2021-01-04 00:00:00'),\n  'NAME': 'Whudu\\xa0Sormuzhik',\n  'GENDER': 'M',\n  'SUB_SPECIES': nan,\n  'CHARACTER_CLASS': 'Warlock',\n  'HOME_KIINGDOM': 'Mouqekar Kingdom',\n  'GUILD': 'Blessing of the Rat',\n  'WEEKLY_PAY': 64.0,\n  'Errors': [\"value is not a valid enumeration member; permitted: 'Human', 'Dwarf', 'Halfling', 'Elf', 'Dragonborn', 'Tiefling', 'Half-Orc', 'Gnome', 'Half-Elf'\"],\n  'Error_row_num': 63},\n {'DATE_CREATED': Timestamp('2019-12-30 00:00:00'),\n  'NAME': 'Orngart\\xa0Turnskull',\n  'GENDER': nan,\n  'SUB_SPECIES': 'Half-Orc',\n  'CHARACTER_CLASS': 'Wizard',\n  'HOME_KIINGDOM': 'Xecihan Empire',\n  'GUILD': 'Contract Vikings',\n  'WEEKLY_PAY': 27.0,\n  'Errors': [\"value is not a valid enumeration member; permitted: 'M', 'F', 'NB'\"],\n  'Error_row_num': 64},\n {'DATE_CREATED': Timestamp('2022-11-27 00:00:00'),\n  'NAME': 'Yeskarra\\xa0Dummik',\n  'GENDER': 'NB',\n  'SUB_SPECIES': 'Half-Orc',\n  'CHARACTER_CLASS': nan,\n  'HOME_KIINGDOM': 'Ophaepis Kingdom',\n  'GUILD': 'Bellowarrows',\n  'WEEKLY_PAY': 56.0,\n  'Errors': [\"value is not a valid enumeration member; permitted: 'Druid', 'Fighter', 'Warlock', 'Ranger', 'Bard', 'Sorcerer', 'Paladin', 'Rogue', 'Wizard', 'Monk', 'Barbarian', 'Cleric'\"],\n  'Error_row_num': 71},\n {'DATE_CREATED': Timestamp('2020-01-26 00:00:00'),\n  'NAME': 'Juutar\\xa0Rutvor',\n  'GENDER': nan,\n  'SUB_SPECIES': 'Gnome',\n  'CHARACTER_CLASS': 'Cleric',\n  'HOME_KIINGDOM': 'Quiggeterra Dynasty',\n  'GUILD': 'Iron Hawks',\n  'WEEKLY_PAY': 150.0,\n  'Errors': [\"value is not a valid enumeration member; permitted: 'M', 'F', 'NB'\"],\n  'Error_row_num': 80},\n {'DATE_CREATED': Timestamp('2020-02-20 00:00:00'),\n  'NAME': 'Achart\\xa0Van Gelder',\n  'GENDER': 'M',\n  'SUB_SPECIES': nan,\n  'CHARACTER_CLASS': 'Wizard',\n  'HOME_KIINGDOM': 'Mouqekar Kingdom',\n  'GUILD': 'Iron Hawks',\n  'WEEKLY_PAY': 133.0,\n  'Errors': [\"value is not a valid enumeration member; permitted: 'Human', 'Dwarf', 'Halfling', 'Elf', 'Dragonborn', 'Tiefling', 'Half-Orc', 'Gnome', 'Half-Elf'\"],\n  'Error_row_num': 84},\n {'DATE_CREATED': Timestamp('2020-06-09 00:00:00'),\n  'NAME': 'Rahier\\xa0Leysen',\n  'GENDER': nan,\n  'SUB_SPECIES': 'Half-Elf',\n  'CHARACTER_CLASS': 'Druid',\n  'HOME_KIINGDOM': 'Ophaepis Kingdom',\n  'GUILD': 'Flesh Vanguards',\n  'WEEKLY_PAY': 57.0,\n  'Errors': [\"value is not a valid enumeration member; permitted: 'M', 'F', 'NB'\"],\n  'Error_row_num': 86}]"
     },
     "execution_count": 8,
     "metadata": {},
     "output_type": "execute_result"
    }
   ],
   "source": [
    "invalid_data"
   ],
   "metadata": {
    "collapsed": false
   }
  }
 ],
 "metadata": {
  "kernelspec": {
   "display_name": "Python 3",
   "language": "python",
   "name": "python3"
  },
  "language_info": {
   "codemirror_mode": {
    "name": "ipython",
    "version": 2
   },
   "file_extension": ".py",
   "mimetype": "text/x-python",
   "name": "python",
   "nbconvert_exporter": "python",
   "pygments_lexer": "ipython2",
   "version": "2.7.6"
  }
 },
 "nbformat": 4,
 "nbformat_minor": 0
}
